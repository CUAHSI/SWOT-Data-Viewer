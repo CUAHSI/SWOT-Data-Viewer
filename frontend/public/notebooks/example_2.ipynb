{
 "cells": [
  {
   "cell_type": "markdown",
   "metadata": {},
   "source": [
    "# AnothereExample notebook with metadata section"
   ]
  },
  {
   "cell_type": "code",
   "execution_count": null,
   "metadata": {},
   "outputs": [],
   "source": [
    "# Example metadata that can be parsed for display in the SWOTVIZ app\n",
    "META_TITLE = \"Another Example metadata tile\"\n",
    "META_SUBTITLE = \"Subtitle extracted from the notebook\"\n",
    "META_DESCRIPTION = \"This will get synced to https://www.hydroshare.org/resource/ff48614339034212bb7b31cb719c0aa0/data/contents/example_metadata_parsing2.ipynb\""
   ]
  }
 ],
 "metadata": {
  "kernelspec": {
   "display_name": "venv",
   "language": "python",
   "name": "python3"
  },
  "language_info": {
   "codemirror_mode": {
    "name": "ipython",
    "version": 3
   },
   "file_extension": ".py",
   "mimetype": "text/x-python",
   "name": "python",
   "nbconvert_exporter": "python",
   "pygments_lexer": "ipython3",
   "version": "3.12.3"
  }
 },
 "nbformat": 4,
 "nbformat_minor": 4
}
